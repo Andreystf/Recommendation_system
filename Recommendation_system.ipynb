{
 "cells": [
  {
   "cell_type": "code",
   "execution_count": 2,
   "metadata": {
    "collapsed": true,
    "pycharm": {
     "name": "#%%\n"
    }
   },
   "outputs": [],
   "source": [
    "import pandas as pd\n",
    "import numpy as np\n",
    "from imageio import imread\n",
    "from PIL import Image\n",
    "import matplotlib.pyplot as plt\n",
    "from sklearn.neighbors import NearestNeighbors\n",
    "from scipy.sparse import csr_matrix\n",
    "from sklearn.decomposition import TruncatedSVD\n",
    "import sys"
   ]
  },
  {
   "cell_type": "code",
   "execution_count": 3,
   "outputs": [
    {
     "name": "stderr",
     "output_type": "stream",
     "text": [
      "b'Skipping line 6452: expected 8 fields, saw 9\\nSkipping line 43667: expected 8 fields, saw 10\\nSkipping line 51751: expected 8 fields, saw 9\\n'\n",
      "b'Skipping line 92038: expected 8 fields, saw 9\\nSkipping line 104319: expected 8 fields, saw 9\\nSkipping line 121768: expected 8 fields, saw 9\\n'\n",
      "b'Skipping line 144058: expected 8 fields, saw 9\\nSkipping line 150789: expected 8 fields, saw 9\\nSkipping line 157128: expected 8 fields, saw 9\\nSkipping line 180189: expected 8 fields, saw 9\\nSkipping line 185738: expected 8 fields, saw 9\\n'\n",
      "b'Skipping line 209388: expected 8 fields, saw 9\\nSkipping line 220626: expected 8 fields, saw 9\\nSkipping line 227933: expected 8 fields, saw 11\\nSkipping line 228957: expected 8 fields, saw 10\\nSkipping line 245933: expected 8 fields, saw 9\\nSkipping line 251296: expected 8 fields, saw 9\\nSkipping line 259941: expected 8 fields, saw 9\\nSkipping line 261529: expected 8 fields, saw 9\\n'\n",
      "/Users/andrejkacera/opt/anaconda3/lib/python3.7/site-packages/IPython/core/interactiveshell.py:3258: DtypeWarning: Columns (3) have mixed types.Specify dtype option on import or set low_memory=False.\n",
      "  interactivity=interactivity, compiler=compiler, result=result)\n"
     ]
    }
   ],
   "source": [
    "books = pd.read_csv('BX-Books.csv',sep=\";\",error_bad_lines=False, encoding='latin-1')\n",
    "rating = pd.read_csv('BX-Book-Ratings.csv',sep=\";\",error_bad_lines=False, encoding='latin-1')"
   ],
   "metadata": {
    "collapsed": false,
    "pycharm": {
     "name": "#%%\n"
    }
   }
  },
  {
   "cell_type": "code",
   "execution_count": 4,
   "outputs": [],
   "source": [
    "books = books[['ISBN', 'Book-Title']]"
   ],
   "metadata": {
    "collapsed": false,
    "pycharm": {
     "name": "#%%\n"
    }
   }
  },
  {
   "cell_type": "code",
   "execution_count": 5,
   "outputs": [
    {
     "data": {
      "text/plain": "(1149780, 3)"
     },
     "execution_count": 5,
     "metadata": {},
     "output_type": "execute_result"
    }
   ],
   "source": [
    "rating.shape"
   ],
   "metadata": {
    "collapsed": false,
    "pycharm": {
     "name": "#%%\n"
    }
   }
  },
  {
   "cell_type": "code",
   "execution_count": 6,
   "outputs": [
    {
     "data": {
      "text/plain": "(271360, 2)"
     },
     "execution_count": 6,
     "metadata": {},
     "output_type": "execute_result"
    }
   ],
   "source": [
    "books.shape"
   ],
   "metadata": {
    "collapsed": false,
    "pycharm": {
     "name": "#%%\n"
    }
   }
  },
  {
   "cell_type": "code",
   "execution_count": 7,
   "outputs": [
    {
     "data": {
      "text/plain": "29225"
     },
     "execution_count": 7,
     "metadata": {},
     "output_type": "execute_result"
    }
   ],
   "source": [
    "books.duplicated(['Book-Title']).sum()"
   ],
   "metadata": {
    "collapsed": false,
    "pycharm": {
     "name": "#%%\n"
    }
   }
  },
  {
   "cell_type": "code",
   "execution_count": 8,
   "outputs": [],
   "source": [
    "x=rating['User-ID'].value_counts()>200"
   ],
   "metadata": {
    "collapsed": false,
    "pycharm": {
     "name": "#%%\n"
    }
   }
  },
  {
   "cell_type": "code",
   "execution_count": 9,
   "outputs": [],
   "source": [
    "y = x[x].index"
   ],
   "metadata": {
    "collapsed": false,
    "pycharm": {
     "name": "#%%\n"
    }
   }
  },
  {
   "cell_type": "code",
   "execution_count": 10,
   "outputs": [],
   "source": [
    "rating=rating[rating['User-ID'].isin(y)]"
   ],
   "metadata": {
    "collapsed": false,
    "pycharm": {
     "name": "#%%\n"
    }
   }
  },
  {
   "cell_type": "code",
   "execution_count": 11,
   "outputs": [],
   "source": [
    "rating_with_books=rating.merge(books,on='ISBN')"
   ],
   "metadata": {
    "collapsed": false,
    "pycharm": {
     "name": "#%%\n"
    }
   }
  },
  {
   "cell_type": "code",
   "execution_count": 12,
   "outputs": [],
   "source": [
    "rating_with_books.drop_duplicates(['Book-Title', 'User-ID'], inplace=True)"
   ],
   "metadata": {
    "collapsed": false,
    "pycharm": {
     "name": "#%%\n"
    }
   }
  },
  {
   "cell_type": "code",
   "execution_count": 13,
   "outputs": [
    {
     "data": {
      "text/plain": "                                          Book-Title  number of rating\n0   A Light in the Storm: The Civil War Diary of ...                 2\n1                              Always Have Popsicles                 1\n2               Apple Magic (The Collector's series)                 1\n3   Beyond IBM: Leadership Marketing and Finance ...                 1\n4   Clifford Visita El Hospital (Clifford El Gran...                 1",
      "text/html": "<div>\n<style scoped>\n    .dataframe tbody tr th:only-of-type {\n        vertical-align: middle;\n    }\n\n    .dataframe tbody tr th {\n        vertical-align: top;\n    }\n\n    .dataframe thead th {\n        text-align: right;\n    }\n</style>\n<table border=\"1\" class=\"dataframe\">\n  <thead>\n    <tr style=\"text-align: right;\">\n      <th></th>\n      <th>Book-Title</th>\n      <th>number of rating</th>\n    </tr>\n  </thead>\n  <tbody>\n    <tr>\n      <th>0</th>\n      <td>A Light in the Storm: The Civil War Diary of ...</td>\n      <td>2</td>\n    </tr>\n    <tr>\n      <th>1</th>\n      <td>Always Have Popsicles</td>\n      <td>1</td>\n    </tr>\n    <tr>\n      <th>2</th>\n      <td>Apple Magic (The Collector's series)</td>\n      <td>1</td>\n    </tr>\n    <tr>\n      <th>3</th>\n      <td>Beyond IBM: Leadership Marketing and Finance ...</td>\n      <td>1</td>\n    </tr>\n    <tr>\n      <th>4</th>\n      <td>Clifford Visita El Hospital (Clifford El Gran...</td>\n      <td>1</td>\n    </tr>\n  </tbody>\n</table>\n</div>"
     },
     "execution_count": 13,
     "metadata": {},
     "output_type": "execute_result"
    }
   ],
   "source": [
    "number_rating=rating_with_books.groupby('Book-Title')['Book-Rating'].count().reset_index()\n",
    "number_rating.rename(columns={'Book-Rating':'number of rating'},inplace=True)\n",
    "number_rating.head()"
   ],
   "metadata": {
    "collapsed": false,
    "pycharm": {
     "name": "#%%\n"
    }
   }
  },
  {
   "cell_type": "code",
   "execution_count": 14,
   "outputs": [
    {
     "data": {
      "text/plain": "        User-ID        ISBN  Book-Rating  \\\n0        277427  002542730X           10   \n1          3363  002542730X            0   \n2         11676  002542730X            6   \n3         12538  002542730X           10   \n4         13552  002542730X            0   \n...         ...         ...          ...   \n483418   275970  1892145022            0   \n483419   275970  1931868123            0   \n483420   275970  3411086211           10   \n483421   275970  3829021860            0   \n483422   275970  4770019572            0   \n\n                                               Book-Title  number of rating  \n0       Politically Correct Bedtime Stories: Modern Ta...                82  \n1       Politically Correct Bedtime Stories: Modern Ta...                82  \n2       Politically Correct Bedtime Stories: Modern Ta...                82  \n3       Politically Correct Bedtime Stories: Modern Ta...                82  \n4       Politically Correct Bedtime Stories: Modern Ta...                82  \n...                                                   ...               ...  \n483418                                   Here Is New York                 1  \n483419  There's a Porcupine in My Outhouse: Misadventu...                 1  \n483420                                         Die Biene.                 1  \n483421                                     The Penis Book                 1  \n483422                                            Musashi                 1  \n\n[483423 rows x 5 columns]",
      "text/html": "<div>\n<style scoped>\n    .dataframe tbody tr th:only-of-type {\n        vertical-align: middle;\n    }\n\n    .dataframe tbody tr th {\n        vertical-align: top;\n    }\n\n    .dataframe thead th {\n        text-align: right;\n    }\n</style>\n<table border=\"1\" class=\"dataframe\">\n  <thead>\n    <tr style=\"text-align: right;\">\n      <th></th>\n      <th>User-ID</th>\n      <th>ISBN</th>\n      <th>Book-Rating</th>\n      <th>Book-Title</th>\n      <th>number of rating</th>\n    </tr>\n  </thead>\n  <tbody>\n    <tr>\n      <th>0</th>\n      <td>277427</td>\n      <td>002542730X</td>\n      <td>10</td>\n      <td>Politically Correct Bedtime Stories: Modern Ta...</td>\n      <td>82</td>\n    </tr>\n    <tr>\n      <th>1</th>\n      <td>3363</td>\n      <td>002542730X</td>\n      <td>0</td>\n      <td>Politically Correct Bedtime Stories: Modern Ta...</td>\n      <td>82</td>\n    </tr>\n    <tr>\n      <th>2</th>\n      <td>11676</td>\n      <td>002542730X</td>\n      <td>6</td>\n      <td>Politically Correct Bedtime Stories: Modern Ta...</td>\n      <td>82</td>\n    </tr>\n    <tr>\n      <th>3</th>\n      <td>12538</td>\n      <td>002542730X</td>\n      <td>10</td>\n      <td>Politically Correct Bedtime Stories: Modern Ta...</td>\n      <td>82</td>\n    </tr>\n    <tr>\n      <th>4</th>\n      <td>13552</td>\n      <td>002542730X</td>\n      <td>0</td>\n      <td>Politically Correct Bedtime Stories: Modern Ta...</td>\n      <td>82</td>\n    </tr>\n    <tr>\n      <th>...</th>\n      <td>...</td>\n      <td>...</td>\n      <td>...</td>\n      <td>...</td>\n      <td>...</td>\n    </tr>\n    <tr>\n      <th>483418</th>\n      <td>275970</td>\n      <td>1892145022</td>\n      <td>0</td>\n      <td>Here Is New York</td>\n      <td>1</td>\n    </tr>\n    <tr>\n      <th>483419</th>\n      <td>275970</td>\n      <td>1931868123</td>\n      <td>0</td>\n      <td>There's a Porcupine in My Outhouse: Misadventu...</td>\n      <td>1</td>\n    </tr>\n    <tr>\n      <th>483420</th>\n      <td>275970</td>\n      <td>3411086211</td>\n      <td>10</td>\n      <td>Die Biene.</td>\n      <td>1</td>\n    </tr>\n    <tr>\n      <th>483421</th>\n      <td>275970</td>\n      <td>3829021860</td>\n      <td>0</td>\n      <td>The Penis Book</td>\n      <td>1</td>\n    </tr>\n    <tr>\n      <th>483422</th>\n      <td>275970</td>\n      <td>4770019572</td>\n      <td>0</td>\n      <td>Musashi</td>\n      <td>1</td>\n    </tr>\n  </tbody>\n</table>\n<p>483423 rows × 5 columns</p>\n</div>"
     },
     "execution_count": 14,
     "metadata": {},
     "output_type": "execute_result"
    }
   ],
   "source": [
    "final_ratings=rating_with_books.merge(number_rating,on='Book-Title')\n",
    "final_ratings"
   ],
   "metadata": {
    "collapsed": false,
    "pycharm": {
     "name": "#%%\n"
    }
   }
  },
  {
   "cell_type": "code",
   "execution_count": 15,
   "outputs": [
    {
     "data": {
      "text/plain": "(483423, 4)"
     },
     "execution_count": 15,
     "metadata": {},
     "output_type": "execute_result"
    }
   ],
   "source": [
    "rating_with_books.shape"
   ],
   "metadata": {
    "collapsed": false,
    "pycharm": {
     "name": "#%%\n"
    }
   }
  },
  {
   "cell_type": "code",
   "execution_count": 16,
   "outputs": [],
   "source": [
    "final_ratings=final_ratings[final_ratings['number of rating']>=50]"
   ],
   "metadata": {
    "collapsed": false,
    "pycharm": {
     "name": "#%%\n"
    }
   }
  },
  {
   "cell_type": "code",
   "execution_count": 17,
   "outputs": [
    {
     "data": {
      "text/plain": "        User-ID        ISBN  Book-Rating  \\\n0        277427  002542730X           10   \n1          3363  002542730X            0   \n2         11676  002542730X            6   \n3         12538  002542730X           10   \n4         13552  002542730X            0   \n...         ...         ...          ...   \n233043   255489  0553579983            7   \n233044   256407  0553579983            0   \n233045   257204  0553579983            0   \n233046   261829  0553579983            0   \n233047   273979  0553579983            0   \n\n                                               Book-Title  number of rating  \n0       Politically Correct Bedtime Stories: Modern Ta...                82  \n1       Politically Correct Bedtime Stories: Modern Ta...                82  \n2       Politically Correct Bedtime Stories: Modern Ta...                82  \n3       Politically Correct Bedtime Stories: Modern Ta...                82  \n4       Politically Correct Bedtime Stories: Modern Ta...                82  \n...                                                   ...               ...  \n233043                                   And Then You Die                50  \n233044                                   And Then You Die                50  \n233045                                   And Then You Die                50  \n233046                                   And Then You Die                50  \n233047                                   And Then You Die                50  \n\n[58027 rows x 5 columns]",
      "text/html": "<div>\n<style scoped>\n    .dataframe tbody tr th:only-of-type {\n        vertical-align: middle;\n    }\n\n    .dataframe tbody tr th {\n        vertical-align: top;\n    }\n\n    .dataframe thead th {\n        text-align: right;\n    }\n</style>\n<table border=\"1\" class=\"dataframe\">\n  <thead>\n    <tr style=\"text-align: right;\">\n      <th></th>\n      <th>User-ID</th>\n      <th>ISBN</th>\n      <th>Book-Rating</th>\n      <th>Book-Title</th>\n      <th>number of rating</th>\n    </tr>\n  </thead>\n  <tbody>\n    <tr>\n      <th>0</th>\n      <td>277427</td>\n      <td>002542730X</td>\n      <td>10</td>\n      <td>Politically Correct Bedtime Stories: Modern Ta...</td>\n      <td>82</td>\n    </tr>\n    <tr>\n      <th>1</th>\n      <td>3363</td>\n      <td>002542730X</td>\n      <td>0</td>\n      <td>Politically Correct Bedtime Stories: Modern Ta...</td>\n      <td>82</td>\n    </tr>\n    <tr>\n      <th>2</th>\n      <td>11676</td>\n      <td>002542730X</td>\n      <td>6</td>\n      <td>Politically Correct Bedtime Stories: Modern Ta...</td>\n      <td>82</td>\n    </tr>\n    <tr>\n      <th>3</th>\n      <td>12538</td>\n      <td>002542730X</td>\n      <td>10</td>\n      <td>Politically Correct Bedtime Stories: Modern Ta...</td>\n      <td>82</td>\n    </tr>\n    <tr>\n      <th>4</th>\n      <td>13552</td>\n      <td>002542730X</td>\n      <td>0</td>\n      <td>Politically Correct Bedtime Stories: Modern Ta...</td>\n      <td>82</td>\n    </tr>\n    <tr>\n      <th>...</th>\n      <td>...</td>\n      <td>...</td>\n      <td>...</td>\n      <td>...</td>\n      <td>...</td>\n    </tr>\n    <tr>\n      <th>233043</th>\n      <td>255489</td>\n      <td>0553579983</td>\n      <td>7</td>\n      <td>And Then You Die</td>\n      <td>50</td>\n    </tr>\n    <tr>\n      <th>233044</th>\n      <td>256407</td>\n      <td>0553579983</td>\n      <td>0</td>\n      <td>And Then You Die</td>\n      <td>50</td>\n    </tr>\n    <tr>\n      <th>233045</th>\n      <td>257204</td>\n      <td>0553579983</td>\n      <td>0</td>\n      <td>And Then You Die</td>\n      <td>50</td>\n    </tr>\n    <tr>\n      <th>233046</th>\n      <td>261829</td>\n      <td>0553579983</td>\n      <td>0</td>\n      <td>And Then You Die</td>\n      <td>50</td>\n    </tr>\n    <tr>\n      <th>233047</th>\n      <td>273979</td>\n      <td>0553579983</td>\n      <td>0</td>\n      <td>And Then You Die</td>\n      <td>50</td>\n    </tr>\n  </tbody>\n</table>\n<p>58027 rows × 5 columns</p>\n</div>"
     },
     "execution_count": 17,
     "metadata": {},
     "output_type": "execute_result"
    }
   ],
   "source": [
    "final_ratings"
   ],
   "metadata": {
    "collapsed": false,
    "pycharm": {
     "name": "#%%\n"
    }
   }
  },
  {
   "cell_type": "code",
   "execution_count": 18,
   "outputs": [],
   "source": [
    "book_pivot=rating_with_books.pivot_table(columns='User-ID',index='Book-Title',values='Book-Rating')"
   ],
   "metadata": {
    "collapsed": false,
    "pycharm": {
     "name": "#%%\n"
    }
   }
  },
  {
   "cell_type": "code",
   "execution_count": 19,
   "outputs": [],
   "source": [
    "book_pivot.fillna(0,inplace=True)"
   ],
   "metadata": {
    "collapsed": false,
    "pycharm": {
     "name": "#%%\n"
    }
   }
  },
  {
   "cell_type": "code",
   "execution_count": 20,
   "outputs": [
    {
     "data": {
      "text/plain": "User-ID                                             254     2276    2766    \\\nBook-Title                                                                   \n A Light in the Storm: The Civil War Diary of A...     0.0     0.0     0.0   \n Always Have Popsicles                                 0.0     0.0     0.0   \n Apple Magic (The Collector's series)                  0.0     0.0     0.0   \n Beyond IBM: Leadership Marketing and Finance f...     0.0     0.0     0.0   \n Clifford Visita El Hospital (Clifford El Gran ...     0.0     0.0     0.0   \n...                                                    ...     ...     ...   \nÃ?Â?ber die Pflicht zum Ungehorsam gegen den St...     0.0     0.0     0.0   \nÃ?Â?lpiraten.                                          0.0     0.0     0.0   \nÃ?Â?rger mit Produkt X. Roman.                         0.0     0.0     0.0   \nÃ?Â?stlich der Berge.                                  0.0     0.0     0.0   \nÃ?Â?thique en toc                                      0.0     0.0     0.0   \n\nUser-ID                                             2977    3363    3757    \\\nBook-Title                                                                   \n A Light in the Storm: The Civil War Diary of A...     0.0     0.0     0.0   \n Always Have Popsicles                                 0.0     0.0     0.0   \n Apple Magic (The Collector's series)                  0.0     0.0     0.0   \n Beyond IBM: Leadership Marketing and Finance f...     0.0     0.0     0.0   \n Clifford Visita El Hospital (Clifford El Gran ...     0.0     0.0     0.0   \n...                                                    ...     ...     ...   \nÃ?Â?ber die Pflicht zum Ungehorsam gegen den St...     0.0     0.0     0.0   \nÃ?Â?lpiraten.                                          0.0     0.0     0.0   \nÃ?Â?rger mit Produkt X. Roman.                         0.0     0.0     0.0   \nÃ?Â?stlich der Berge.                                  0.0     0.0     0.0   \nÃ?Â?thique en toc                                      0.0     0.0     0.0   \n\nUser-ID                                             4017    4385    6242    \\\nBook-Title                                                                   \n A Light in the Storm: The Civil War Diary of A...     0.0     0.0     0.0   \n Always Have Popsicles                                 0.0     0.0     0.0   \n Apple Magic (The Collector's series)                  0.0     0.0     0.0   \n Beyond IBM: Leadership Marketing and Finance f...     0.0     0.0     0.0   \n Clifford Visita El Hospital (Clifford El Gran ...     0.0     0.0     0.0   \n...                                                    ...     ...     ...   \nÃ?Â?ber die Pflicht zum Ungehorsam gegen den St...     0.0     0.0     0.0   \nÃ?Â?lpiraten.                                          0.0     0.0     0.0   \nÃ?Â?rger mit Produkt X. Roman.                         0.0     0.0     0.0   \nÃ?Â?stlich der Berge.                                  0.0     0.0     0.0   \nÃ?Â?thique en toc                                      0.0     0.0     0.0   \n\nUser-ID                                             6251    ...  274004  \\\nBook-Title                                                  ...           \n A Light in the Storm: The Civil War Diary of A...     0.0  ...     0.0   \n Always Have Popsicles                                 0.0  ...     0.0   \n Apple Magic (The Collector's series)                  0.0  ...     0.0   \n Beyond IBM: Leadership Marketing and Finance f...     0.0  ...     0.0   \n Clifford Visita El Hospital (Clifford El Gran ...     0.0  ...     0.0   \n...                                                    ...  ...     ...   \nÃ?Â?ber die Pflicht zum Ungehorsam gegen den St...     0.0  ...     0.0   \nÃ?Â?lpiraten.                                          0.0  ...     0.0   \nÃ?Â?rger mit Produkt X. Roman.                         0.0  ...     0.0   \nÃ?Â?stlich der Berge.                                  0.0  ...     0.0   \nÃ?Â?thique en toc                                      0.0  ...     0.0   \n\nUser-ID                                             274061  274301  274308  \\\nBook-Title                                                                   \n A Light in the Storm: The Civil War Diary of A...     0.0     0.0     0.0   \n Always Have Popsicles                                 0.0     0.0     0.0   \n Apple Magic (The Collector's series)                  0.0     0.0     0.0   \n Beyond IBM: Leadership Marketing and Finance f...     0.0     0.0     0.0   \n Clifford Visita El Hospital (Clifford El Gran ...     0.0     0.0     0.0   \n...                                                    ...     ...     ...   \nÃ?Â?ber die Pflicht zum Ungehorsam gegen den St...     0.0     0.0     0.0   \nÃ?Â?lpiraten.                                          0.0     0.0     0.0   \nÃ?Â?rger mit Produkt X. Roman.                         0.0     0.0     0.0   \nÃ?Â?stlich der Berge.                                  0.0     0.0     0.0   \nÃ?Â?thique en toc                                      0.0     0.0     0.0   \n\nUser-ID                                             274808  275970  277427  \\\nBook-Title                                                                   \n A Light in the Storm: The Civil War Diary of A...     0.0     0.0     0.0   \n Always Have Popsicles                                 0.0     0.0     0.0   \n Apple Magic (The Collector's series)                  0.0     0.0     0.0   \n Beyond IBM: Leadership Marketing and Finance f...     0.0     0.0     0.0   \n Clifford Visita El Hospital (Clifford El Gran ...     0.0     0.0     0.0   \n...                                                    ...     ...     ...   \nÃ?Â?ber die Pflicht zum Ungehorsam gegen den St...     0.0     0.0     0.0   \nÃ?Â?lpiraten.                                          0.0     0.0     0.0   \nÃ?Â?rger mit Produkt X. Roman.                         0.0     0.0     0.0   \nÃ?Â?stlich der Berge.                                  0.0     0.0     0.0   \nÃ?Â?thique en toc                                      0.0     0.0     0.0   \n\nUser-ID                                             277478  277639  278418  \nBook-Title                                                                  \n A Light in the Storm: The Civil War Diary of A...     0.0     0.0     0.0  \n Always Have Popsicles                                 0.0     0.0     0.0  \n Apple Magic (The Collector's series)                  0.0     0.0     0.0  \n Beyond IBM: Leadership Marketing and Finance f...     0.0     0.0     0.0  \n Clifford Visita El Hospital (Clifford El Gran ...     0.0     0.0     0.0  \n...                                                    ...     ...     ...  \nÃ?Â?ber die Pflicht zum Ungehorsam gegen den St...     0.0     0.0     0.0  \nÃ?Â?lpiraten.                                          0.0     0.0     0.0  \nÃ?Â?rger mit Produkt X. Roman.                         0.0     0.0     0.0  \nÃ?Â?stlich der Berge.                                  0.0     0.0     0.0  \nÃ?Â?thique en toc                                      0.0     0.0     0.0  \n\n[160269 rows x 899 columns]",
      "text/html": "<div>\n<style scoped>\n    .dataframe tbody tr th:only-of-type {\n        vertical-align: middle;\n    }\n\n    .dataframe tbody tr th {\n        vertical-align: top;\n    }\n\n    .dataframe thead th {\n        text-align: right;\n    }\n</style>\n<table border=\"1\" class=\"dataframe\">\n  <thead>\n    <tr style=\"text-align: right;\">\n      <th>User-ID</th>\n      <th>254</th>\n      <th>2276</th>\n      <th>2766</th>\n      <th>2977</th>\n      <th>3363</th>\n      <th>3757</th>\n      <th>4017</th>\n      <th>4385</th>\n      <th>6242</th>\n      <th>6251</th>\n      <th>...</th>\n      <th>274004</th>\n      <th>274061</th>\n      <th>274301</th>\n      <th>274308</th>\n      <th>274808</th>\n      <th>275970</th>\n      <th>277427</th>\n      <th>277478</th>\n      <th>277639</th>\n      <th>278418</th>\n    </tr>\n    <tr>\n      <th>Book-Title</th>\n      <th></th>\n      <th></th>\n      <th></th>\n      <th></th>\n      <th></th>\n      <th></th>\n      <th></th>\n      <th></th>\n      <th></th>\n      <th></th>\n      <th></th>\n      <th></th>\n      <th></th>\n      <th></th>\n      <th></th>\n      <th></th>\n      <th></th>\n      <th></th>\n      <th></th>\n      <th></th>\n      <th></th>\n    </tr>\n  </thead>\n  <tbody>\n    <tr>\n      <th>A Light in the Storm: The Civil War Diary of Amelia Martin, Fenwick Island, Delaware, 1861 (Dear America)</th>\n      <td>0.0</td>\n      <td>0.0</td>\n      <td>0.0</td>\n      <td>0.0</td>\n      <td>0.0</td>\n      <td>0.0</td>\n      <td>0.0</td>\n      <td>0.0</td>\n      <td>0.0</td>\n      <td>0.0</td>\n      <td>...</td>\n      <td>0.0</td>\n      <td>0.0</td>\n      <td>0.0</td>\n      <td>0.0</td>\n      <td>0.0</td>\n      <td>0.0</td>\n      <td>0.0</td>\n      <td>0.0</td>\n      <td>0.0</td>\n      <td>0.0</td>\n    </tr>\n    <tr>\n      <th>Always Have Popsicles</th>\n      <td>0.0</td>\n      <td>0.0</td>\n      <td>0.0</td>\n      <td>0.0</td>\n      <td>0.0</td>\n      <td>0.0</td>\n      <td>0.0</td>\n      <td>0.0</td>\n      <td>0.0</td>\n      <td>0.0</td>\n      <td>...</td>\n      <td>0.0</td>\n      <td>0.0</td>\n      <td>0.0</td>\n      <td>0.0</td>\n      <td>0.0</td>\n      <td>0.0</td>\n      <td>0.0</td>\n      <td>0.0</td>\n      <td>0.0</td>\n      <td>0.0</td>\n    </tr>\n    <tr>\n      <th>Apple Magic (The Collector's series)</th>\n      <td>0.0</td>\n      <td>0.0</td>\n      <td>0.0</td>\n      <td>0.0</td>\n      <td>0.0</td>\n      <td>0.0</td>\n      <td>0.0</td>\n      <td>0.0</td>\n      <td>0.0</td>\n      <td>0.0</td>\n      <td>...</td>\n      <td>0.0</td>\n      <td>0.0</td>\n      <td>0.0</td>\n      <td>0.0</td>\n      <td>0.0</td>\n      <td>0.0</td>\n      <td>0.0</td>\n      <td>0.0</td>\n      <td>0.0</td>\n      <td>0.0</td>\n    </tr>\n    <tr>\n      <th>Beyond IBM: Leadership Marketing and Finance for the 1990s</th>\n      <td>0.0</td>\n      <td>0.0</td>\n      <td>0.0</td>\n      <td>0.0</td>\n      <td>0.0</td>\n      <td>0.0</td>\n      <td>0.0</td>\n      <td>0.0</td>\n      <td>0.0</td>\n      <td>0.0</td>\n      <td>...</td>\n      <td>0.0</td>\n      <td>0.0</td>\n      <td>0.0</td>\n      <td>0.0</td>\n      <td>0.0</td>\n      <td>0.0</td>\n      <td>0.0</td>\n      <td>0.0</td>\n      <td>0.0</td>\n      <td>0.0</td>\n    </tr>\n    <tr>\n      <th>Clifford Visita El Hospital (Clifford El Gran Perro Colorado)</th>\n      <td>0.0</td>\n      <td>0.0</td>\n      <td>0.0</td>\n      <td>0.0</td>\n      <td>0.0</td>\n      <td>0.0</td>\n      <td>0.0</td>\n      <td>0.0</td>\n      <td>0.0</td>\n      <td>0.0</td>\n      <td>...</td>\n      <td>0.0</td>\n      <td>0.0</td>\n      <td>0.0</td>\n      <td>0.0</td>\n      <td>0.0</td>\n      <td>0.0</td>\n      <td>0.0</td>\n      <td>0.0</td>\n      <td>0.0</td>\n      <td>0.0</td>\n    </tr>\n    <tr>\n      <th>...</th>\n      <td>...</td>\n      <td>...</td>\n      <td>...</td>\n      <td>...</td>\n      <td>...</td>\n      <td>...</td>\n      <td>...</td>\n      <td>...</td>\n      <td>...</td>\n      <td>...</td>\n      <td>...</td>\n      <td>...</td>\n      <td>...</td>\n      <td>...</td>\n      <td>...</td>\n      <td>...</td>\n      <td>...</td>\n      <td>...</td>\n      <td>...</td>\n      <td>...</td>\n      <td>...</td>\n    </tr>\n    <tr>\n      <th>Ã?Â?ber die Pflicht zum Ungehorsam gegen den Staat.</th>\n      <td>0.0</td>\n      <td>0.0</td>\n      <td>0.0</td>\n      <td>0.0</td>\n      <td>0.0</td>\n      <td>0.0</td>\n      <td>0.0</td>\n      <td>0.0</td>\n      <td>0.0</td>\n      <td>0.0</td>\n      <td>...</td>\n      <td>0.0</td>\n      <td>0.0</td>\n      <td>0.0</td>\n      <td>0.0</td>\n      <td>0.0</td>\n      <td>0.0</td>\n      <td>0.0</td>\n      <td>0.0</td>\n      <td>0.0</td>\n      <td>0.0</td>\n    </tr>\n    <tr>\n      <th>Ã?Â?lpiraten.</th>\n      <td>0.0</td>\n      <td>0.0</td>\n      <td>0.0</td>\n      <td>0.0</td>\n      <td>0.0</td>\n      <td>0.0</td>\n      <td>0.0</td>\n      <td>0.0</td>\n      <td>0.0</td>\n      <td>0.0</td>\n      <td>...</td>\n      <td>0.0</td>\n      <td>0.0</td>\n      <td>0.0</td>\n      <td>0.0</td>\n      <td>0.0</td>\n      <td>0.0</td>\n      <td>0.0</td>\n      <td>0.0</td>\n      <td>0.0</td>\n      <td>0.0</td>\n    </tr>\n    <tr>\n      <th>Ã?Â?rger mit Produkt X. Roman.</th>\n      <td>0.0</td>\n      <td>0.0</td>\n      <td>0.0</td>\n      <td>0.0</td>\n      <td>0.0</td>\n      <td>0.0</td>\n      <td>0.0</td>\n      <td>0.0</td>\n      <td>0.0</td>\n      <td>0.0</td>\n      <td>...</td>\n      <td>0.0</td>\n      <td>0.0</td>\n      <td>0.0</td>\n      <td>0.0</td>\n      <td>0.0</td>\n      <td>0.0</td>\n      <td>0.0</td>\n      <td>0.0</td>\n      <td>0.0</td>\n      <td>0.0</td>\n    </tr>\n    <tr>\n      <th>Ã?Â?stlich der Berge.</th>\n      <td>0.0</td>\n      <td>0.0</td>\n      <td>0.0</td>\n      <td>0.0</td>\n      <td>0.0</td>\n      <td>0.0</td>\n      <td>0.0</td>\n      <td>0.0</td>\n      <td>0.0</td>\n      <td>0.0</td>\n      <td>...</td>\n      <td>0.0</td>\n      <td>0.0</td>\n      <td>0.0</td>\n      <td>0.0</td>\n      <td>0.0</td>\n      <td>0.0</td>\n      <td>0.0</td>\n      <td>0.0</td>\n      <td>0.0</td>\n      <td>0.0</td>\n    </tr>\n    <tr>\n      <th>Ã?Â?thique en toc</th>\n      <td>0.0</td>\n      <td>0.0</td>\n      <td>0.0</td>\n      <td>0.0</td>\n      <td>0.0</td>\n      <td>0.0</td>\n      <td>0.0</td>\n      <td>0.0</td>\n      <td>0.0</td>\n      <td>0.0</td>\n      <td>...</td>\n      <td>0.0</td>\n      <td>0.0</td>\n      <td>0.0</td>\n      <td>0.0</td>\n      <td>0.0</td>\n      <td>0.0</td>\n      <td>0.0</td>\n      <td>0.0</td>\n      <td>0.0</td>\n      <td>0.0</td>\n    </tr>\n  </tbody>\n</table>\n<p>160269 rows × 899 columns</p>\n</div>"
     },
     "execution_count": 20,
     "metadata": {},
     "output_type": "execute_result"
    }
   ],
   "source": [
    "book_pivot"
   ],
   "metadata": {
    "collapsed": false,
    "pycharm": {
     "name": "#%%\n"
    }
   }
  },
  {
   "cell_type": "code",
   "execution_count": 21,
   "outputs": [],
   "source": [
    "model=NearestNeighbors()\n",
    "book_sparse=csr_matrix(book_pivot)"
   ],
   "metadata": {
    "collapsed": false,
    "pycharm": {
     "name": "#%%\n"
    }
   }
  },
  {
   "cell_type": "code",
   "execution_count": 22,
   "outputs": [
    {
     "data": {
      "text/plain": "NearestNeighbors(algorithm='auto', leaf_size=30, metric='minkowski',\n                 metric_params=None, n_jobs=None, n_neighbors=5, p=2,\n                 radius=1.0)"
     },
     "execution_count": 22,
     "metadata": {},
     "output_type": "execute_result"
    }
   ],
   "source": [
    "model.fit(book_sparse)"
   ],
   "metadata": {
    "collapsed": false,
    "pycharm": {
     "name": "#%%\n"
    }
   }
  },
  {
   "cell_type": "code",
   "execution_count": 23,
   "outputs": [
    {
     "data": {
      "text/plain": "(array([[0., 0., 0., 0., 0.]]),\n array([[146153,  33713,  76258, 122595,  15517]]))"
     },
     "execution_count": 23,
     "metadata": {},
     "output_type": "execute_result"
    }
   ],
   "source": [
    "model.kneighbors(book_pivot.iloc[237,:].values.reshape(1,-1))"
   ],
   "metadata": {
    "collapsed": false,
    "pycharm": {
     "name": "#%%\n"
    }
   }
  },
  {
   "cell_type": "code",
   "execution_count": 24,
   "outputs": [
    {
     "data": {
      "text/plain": "array([[0., 0., 0., 0., 0., 0., 0., 0., 0., 0., 0., 0., 0., 0., 0., 0.,\n        0., 0., 0., 0., 0., 0., 0., 0., 0., 0., 0., 0., 0., 0., 0., 0.,\n        0., 0., 0., 0., 0., 0., 0., 0., 0., 0., 8., 0., 0., 0., 0., 0.,\n        0., 0., 0., 0., 0., 0., 0., 0., 0., 0., 0., 0., 0., 0., 0., 0.,\n        0., 0., 0., 0., 0., 0., 0., 0., 0., 0., 0., 0., 0., 0., 0., 0.,\n        0., 0., 0., 0., 0., 0., 0., 0., 0., 0., 0., 0., 0., 0., 0., 0.,\n        0., 0., 0., 0., 0., 0., 0., 0., 0., 0., 0., 0., 0., 0., 0., 0.,\n        0., 0., 0., 0., 0., 0., 0., 0., 0., 0., 0., 0., 0., 0., 0., 0.,\n        0., 0., 0., 0., 0., 0., 0., 0., 0., 0., 0., 0., 0., 0., 0., 0.,\n        0., 0., 0., 0., 0., 0., 0., 0., 0., 0., 0., 0., 0., 0., 0., 0.,\n        0., 0., 0., 0., 0., 0., 0., 0., 0., 0., 0., 0., 0., 0., 0., 0.,\n        0., 0., 0., 0., 0., 0., 0., 0., 0., 0., 0., 0., 0., 0., 0., 0.,\n        0., 0., 0., 0., 0., 0., 0., 0., 0., 0., 0., 0., 0., 0., 0., 0.,\n        0., 0., 0., 0., 0., 0., 0., 0., 0., 0., 0., 0., 0., 0., 0., 0.,\n        0., 0., 0., 0., 0., 0., 0., 0., 0., 0., 0., 0., 0., 0., 0., 0.,\n        0., 0., 0., 0., 0., 0., 0., 0., 0., 0., 0., 0., 0., 0., 0., 0.,\n        0., 0., 0., 0., 0., 0., 0., 0., 0., 0., 0., 0., 0., 0., 0., 0.,\n        0., 0., 0., 0., 0., 0., 0., 0., 0., 0., 0., 0., 0., 0., 0., 0.,\n        0., 0., 0., 0., 0., 0., 0., 0., 0., 0., 0., 0., 0., 0., 0., 0.,\n        0., 0., 0., 0., 0., 0., 0., 0., 0., 0., 0., 0., 0., 0., 0., 0.,\n        0., 0., 0., 0., 0., 0., 0., 0., 0., 0., 0., 0., 0., 0., 0., 0.,\n        0., 0., 0., 0., 0., 0., 0., 0., 0., 0., 0., 0., 0., 0., 0., 0.,\n        0., 0., 0., 0., 0., 0., 0., 0., 0., 0., 0., 0., 0., 0., 0., 0.,\n        0., 0., 0., 0., 0., 0., 0., 0., 0., 0., 0., 0., 0., 0., 0., 0.,\n        0., 0., 0., 0., 0., 0., 0., 0., 0., 0., 0., 0., 0., 0., 0., 0.,\n        0., 0., 0., 0., 0., 0., 0., 0., 0., 0., 0., 0., 0., 0., 0., 0.,\n        0., 0., 0., 0., 0., 0., 0., 0., 0., 0., 0., 0., 0., 0., 0., 0.,\n        0., 0., 0., 0., 0., 0., 0., 0., 0., 0., 0., 0., 0., 0., 0., 0.,\n        0., 0., 0., 0., 0., 0., 0., 0., 0., 0., 0., 0., 0., 0., 0., 0.,\n        0., 0., 0., 0., 0., 0., 0., 0., 0., 0., 0., 0., 0., 0., 0., 0.,\n        0., 0., 0., 0., 0., 0., 0., 0., 0., 0., 0., 0., 0., 0., 0., 0.,\n        0., 0., 0., 0., 0., 0., 0., 0., 0., 0., 0., 0., 0., 0., 0., 0.,\n        0., 0., 0., 0., 0., 0., 0., 0., 0., 0., 0., 0., 0., 0., 0., 0.,\n        0., 0., 0., 0., 0., 0., 0., 0., 0., 0., 0., 0., 0., 0., 0., 0.,\n        0., 0., 0., 0., 0., 0., 0., 0., 0., 0., 0., 0., 0., 0., 0., 0.,\n        0., 0., 0., 0., 0., 0., 0., 0., 0., 0., 0., 0., 0., 0., 0., 0.,\n        0., 0., 0., 0., 0., 0., 0., 0., 0., 0., 0., 0., 0., 0., 0., 0.,\n        0., 0., 0., 0., 0., 0., 0., 0., 0., 0., 0., 0., 0., 0., 0., 0.,\n        0., 0., 0., 0., 0., 0., 0., 0., 0., 0., 0., 0., 0., 0., 0., 0.,\n        0., 0., 0., 0., 0., 0., 0., 0., 0., 0., 0., 0., 0., 0., 0., 0.,\n        0., 0., 0., 0., 0., 0., 0., 0., 0., 0., 0., 0., 0., 0., 0., 0.,\n        0., 0., 0., 0., 0., 0., 0., 0., 0., 0., 0., 0., 0., 0., 0., 0.,\n        0., 0., 0., 0., 0., 0., 0., 0., 0., 0., 0., 0., 0., 0., 0., 0.,\n        0., 0., 0., 0., 0., 0., 0., 0., 0., 0., 0., 0., 0., 0., 0., 0.,\n        0., 0., 0., 0., 0., 0., 0., 0., 0., 0., 0., 0., 0., 0., 0., 0.,\n        0., 0., 0., 0., 0., 0., 0., 0., 0., 0., 0., 0., 0., 0., 0., 0.,\n        0., 0., 0., 0., 0., 0., 0., 0., 0., 0., 0., 0., 0., 0., 0., 0.,\n        0., 0., 0., 0., 0., 0., 0., 0., 0., 0., 0., 0., 0., 0., 0., 0.,\n        0., 0., 0., 0., 0., 0., 0., 0., 0., 0., 0., 0., 0., 0., 0., 0.,\n        0., 0., 0., 0., 0., 0., 0., 0., 0., 0., 0., 0., 0., 0., 0., 0.,\n        0., 0., 0., 0., 0., 0., 0., 0., 0., 0., 0., 0., 0., 0., 0., 0.,\n        0., 0., 0., 0., 0., 0., 0., 0., 0., 0., 0., 0., 0., 0., 0., 0.,\n        0., 0., 0., 0., 0., 0., 0., 0., 0., 0., 0., 0., 0., 0., 0., 0.,\n        0., 0., 0., 0., 0., 0., 0., 0., 0., 0., 0., 0., 0., 0., 0., 0.,\n        0., 0., 0., 0., 0., 0., 0., 0., 0., 0., 0., 0., 0., 0., 0., 0.,\n        0., 0., 0., 0., 0., 0., 0., 0., 0., 0., 0., 0., 0., 0., 0., 0.,\n        0., 0., 0.]])"
     },
     "execution_count": 24,
     "metadata": {},
     "output_type": "execute_result"
    }
   ],
   "source": [
    "book_pivot.iloc[237,:].values.reshape(1,-1)"
   ],
   "metadata": {
    "collapsed": false,
    "pycharm": {
     "name": "#%%\n"
    }
   }
  },
  {
   "cell_type": "code",
   "execution_count": 25,
   "outputs": [],
   "source": [
    "def reco(book_name):\n",
    "    book_id=np.where(book_pivot.index==book_name)[0][0]\n",
    "    distances,suggestions=model.kneighbors(book_pivot.iloc[book_id,:].values.reshape(1,-1))\n",
    "\n",
    "\n",
    "\n",
    "    for i in range(len(suggestions)):\n",
    "        if i==0:\n",
    "            print(\"Наиболее близкие к книге\",book_name,\"это : \")\n",
    "        if not i:\n",
    "            print(book_pivot.index[suggestions[i]])"
   ],
   "metadata": {
    "collapsed": false,
    "pycharm": {
     "name": "#%%\n"
    }
   }
  },
  {
   "cell_type": "code",
   "execution_count": 26,
   "outputs": [
    {
     "name": "stdout",
     "output_type": "stream",
     "text": [
      "Наиболее близкие к книге Animal Farm это : \n",
      "Index(['Animal Farm', 'Big Fish: A Novel of Mythic Proportions',\n",
      "       'Shoeless Joe', 'The Elric Saga PT. II',\n",
      "       'Miss Smilla's Feeling for Snow'],\n",
      "      dtype='object', name='Book-Title')\n"
     ]
    }
   ],
   "source": [
    "reco('Animal Farm')"
   ],
   "metadata": {
    "collapsed": false,
    "pycharm": {
     "name": "#%%\n"
    }
   }
  },
  {
   "cell_type": "code",
   "execution_count": 26,
   "outputs": [],
   "source": [],
   "metadata": {
    "collapsed": false,
    "pycharm": {
     "name": "#%%\n"
    }
   }
  },
  {
   "cell_type": "code",
   "execution_count": 27,
   "outputs": [],
   "source": [
    "SVD = TruncatedSVD(n_components=12, random_state=0)\n",
    "matrix = SVD.fit_transform(book_pivot.values.T)"
   ],
   "metadata": {
    "collapsed": false,
    "pycharm": {
     "name": "#%%\n"
    }
   }
  },
  {
   "cell_type": "code",
   "execution_count": 28,
   "outputs": [
    {
     "name": "stderr",
     "output_type": "stream",
     "text": [
      "/Users/andrejkacera/opt/anaconda3/lib/python3.7/site-packages/numpy/lib/function_base.py:2534: RuntimeWarning: invalid value encountered in true_divide\n",
      "  c /= stddev[:, None]\n",
      "/Users/andrejkacera/opt/anaconda3/lib/python3.7/site-packages/numpy/lib/function_base.py:2535: RuntimeWarning: invalid value encountered in true_divide\n",
      "  c /= stddev[None, :]\n"
     ]
    }
   ],
   "source": [
    "corr = np.corrcoef(matrix)"
   ],
   "metadata": {
    "collapsed": false,
    "pycharm": {
     "name": "#%%\n"
    }
   }
  },
  {
   "cell_type": "code",
   "execution_count": 29,
   "outputs": [
    {
     "ename": "IndexError",
     "evalue": "index 10064 is out of bounds for axis 0 with size 899",
     "output_type": "error",
     "traceback": [
      "\u001B[0;31m---------------------------------------------------------------------------\u001B[0m",
      "\u001B[0;31mIndexError\u001B[0m                                Traceback (most recent call last)",
      "\u001B[0;32m<ipython-input-29-ac74a9e2419d>\u001B[0m in \u001B[0;36m<module>\u001B[0;34m\u001B[0m\n\u001B[1;32m      2\u001B[0m \u001B[0mtitle_list\u001B[0m \u001B[0;34m=\u001B[0m \u001B[0mlist\u001B[0m\u001B[0;34m(\u001B[0m\u001B[0mtitle\u001B[0m\u001B[0;34m)\u001B[0m\u001B[0;34m\u001B[0m\u001B[0;34m\u001B[0m\u001B[0m\n\u001B[1;32m      3\u001B[0m \u001B[0msamia\u001B[0m \u001B[0;34m=\u001B[0m \u001B[0mtitle_list\u001B[0m\u001B[0;34m.\u001B[0m\u001B[0mindex\u001B[0m\u001B[0;34m(\u001B[0m\u001B[0;34m'Animal Farm'\u001B[0m\u001B[0;34m)\u001B[0m\u001B[0;34m\u001B[0m\u001B[0;34m\u001B[0m\u001B[0m\n\u001B[0;32m----> 4\u001B[0;31m \u001B[0mcorr_samia\u001B[0m  \u001B[0;34m=\u001B[0m \u001B[0mcorr\u001B[0m\u001B[0;34m[\u001B[0m\u001B[0msamia\u001B[0m\u001B[0;34m]\u001B[0m\u001B[0;34m\u001B[0m\u001B[0;34m\u001B[0m\u001B[0m\n\u001B[0m\u001B[1;32m      5\u001B[0m \u001B[0mlist\u001B[0m\u001B[0;34m(\u001B[0m\u001B[0mtitle\u001B[0m\u001B[0;34m[\u001B[0m\u001B[0;34m(\u001B[0m\u001B[0mcorr_samia\u001B[0m \u001B[0;34m>=\u001B[0m \u001B[0;36m0.9\u001B[0m\u001B[0;34m)\u001B[0m\u001B[0;34m]\u001B[0m\u001B[0;34m)\u001B[0m\u001B[0;34m\u001B[0m\u001B[0;34m\u001B[0m\u001B[0m\n",
      "\u001B[0;31mIndexError\u001B[0m: index 10064 is out of bounds for axis 0 with size 899"
     ]
    }
   ],
   "source": [
    "title = book_pivot.index\n",
    "title_list = list(title)\n",
    "samia = title_list.index('Animal Farm')\n",
    "corr_samia  = corr[samia]\n",
    "list(title[(corr_samia >= 0.9)])"
   ],
   "metadata": {
    "collapsed": false,
    "pycharm": {
     "name": "#%%\n"
    }
   }
  }
 ],
 "metadata": {
  "kernelspec": {
   "display_name": "Python 3",
   "language": "python",
   "name": "python3"
  },
  "language_info": {
   "codemirror_mode": {
    "name": "ipython",
    "version": 2
   },
   "file_extension": ".py",
   "mimetype": "text/x-python",
   "name": "python",
   "nbconvert_exporter": "python",
   "pygments_lexer": "ipython2",
   "version": "2.7.6"
  }
 },
 "nbformat": 4,
 "nbformat_minor": 0
}